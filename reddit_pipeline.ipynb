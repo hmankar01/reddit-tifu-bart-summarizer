{
  "nbformat": 4,
  "nbformat_minor": 0,
  "metadata": {
    "colab": {
      "provenance": []
    },
    "kernelspec": {
      "name": "python3",
      "display_name": "Python 3"
    },
    "language_info": {
      "name": "python"
    }
  },
  "cells": [
    {
      "cell_type": "code",
      "source": [
        "from transformers import pipeline\n",
        "# load your fine‑tuned summarization model\n",
        "summarizer = pipeline(\n",
        "    \"summarization\",\n",
        "    model=\"hmankar01/bart-finetuned-reddit-tifu\",\n",
        "    device=0\n",
        ")\n",
        "# the long text you want to summarize\n",
        "text = \"\"\"\n",
        "So, maybe not my brightest hour. I just wanted to get a nail out of the drywall and it would not budge. I had the idea if I could knock it in,\n",
        "maybe that would loosen it, and it would come out easier. Too lazy to walk a flight of steps, I thought, \"I'll just use my phone to tap it in\".\n",
        "The good news is that it worked. The nail went in, I grabbed it with my fingernails, got a good grip and it came all the way out. Wahoo!!\n",
        "The bad news is that it apparently triggered the \"accident\" setting on the phone and called 911. I would have thought it would have made a sound while doing that,\n",
        "but it didn't. I guess I did not hear the 911 operator answering. About ten minutes later, the police are knocking on the front door. Two cruisers in the drive way\n",
        "and an EMT Ambulance pulling up. They were on alert as they thought it might be a kidnap/domestic violence issue. After we all figured out what happened, we had a good\n",
        "laugh (not!). If it happens again, I will fined and maybe charged. Lesson... don't use your phone as a hammer. Should have been obvious.\n",
        "\"\"\"\n",
        "# generate the summary\n",
        "summary = summarizer(\n",
        "    text,\n",
        "    max_length=200,\n",
        "    min_length=30,\n",
        "    do_sample=False\n",
        ")[0]['summary_text']\n",
        "print(\"Summary:\", summary)"
      ],
      "metadata": {
        "colab": {
          "base_uri": "https://localhost:8080/"
        },
        "id": "t4c2vpN0-Oaf",
        "outputId": "2e148727-4dac-41c6-ba14-825818c53928"
      },
      "execution_count": 4,
      "outputs": [
        {
          "output_type": "stream",
          "name": "stderr",
          "text": [
            "Device set to use cpu\n"
          ]
        },
        {
          "output_type": "stream",
          "name": "stdout",
          "text": [
            "Summary: used my phone as a hammer to knock a nail out of my drywall, and the police thought it was a kidnap/domestic violence issue.\n"
          ]
        }
      ]
    }
  ]
}